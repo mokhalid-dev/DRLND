{
 "cells": [
  {
   "cell_type": "markdown",
   "metadata": {},
   "source": [
    "# Navigation Report\n",
    "\n",
    "---\n",
    "\n",
    "For this project, an agent was trained to navigate in a-, square environment (and collect bananas!). \n",
    "\n",
    "A +1 reward for collecting a yellow banana was given, and a -1 reward for collecting a blue banana. My agent 's goal was, therefore, to obtain as many yellow bananas as possible while avoiding blue bananas.\n",
    "\n",
    "\n",
    "### 1. Start the Environment\n",
    "\n",
    "We begin by importing some necessary packages.  If the code cell below returns an error, please revisit the project instructions to double-check that you have installed [Unity ML-Agents](https://github.com/Unity-Technologies/ml-agents/blob/master/docs/Installation.md) and [NumPy](http://www.numpy.org/)."
   ]
  },
  {
   "cell_type": "code",
   "execution_count": 11,
   "metadata": {},
   "outputs": [],
   "source": [
    "from unityagents import UnityEnvironment\n",
    "import numpy as np\n",
    "import time\n",
    "from collections import deque\n",
    "import matplotlib.pyplot as plt\n",
    "import torch\n",
    "from dqn_agent import Agent"
   ]
  },
  {
   "cell_type": "markdown",
   "metadata": {},
   "source": [
    "Next, we will start the environment!  **_Before running the code cell below_**, change the `file_name` parameter to match the location of the Unity environment that you downloaded.\n",
    "\n",
    "- **Mac**: `\"path/to/Banana.app\"`\n",
    "- **Windows** (x86): `\"path/to/Banana_Windows_x86/Banana.exe\"`\n",
    "- **Windows** (x86_64): `\"path/to/Banana_Windows_x86_64/Banana.exe\"`\n",
    "- **Linux** (x86): `\"path/to/Banana_Linux/Banana.x86\"`\n",
    "- **Linux** (x86_64): `\"path/to/Banana_Linux/Banana.x86_64\"`\n",
    "- **Linux** (x86, headless): `\"path/to/Banana_Linux_NoVis/Banana.x86\"`\n",
    "- **Linux** (x86_64, headless): `\"path/to/Banana_Linux_NoVis/Banana.x86_64\"`\n",
    "\n",
    "For instance, if you are using a Mac, then you downloaded `Banana.app`.  If this file is in the same folder as the notebook, then the line below should appear as follows:\n",
    "```\n",
    "env = UnityEnvironment(file_name=\"Banana.app\")\n",
    "```"
   ]
  },
  {
   "cell_type": "code",
   "execution_count": 2,
   "metadata": {
    "scrolled": true
   },
   "outputs": [
    {
     "name": "stderr",
     "output_type": "stream",
     "text": [
      "INFO:unityagents:\n",
      "'Academy' started successfully!\n",
      "Unity Academy name: Academy\n",
      "        Number of Brains: 1\n",
      "        Number of External Brains : 1\n",
      "        Lesson number : 0\n",
      "        Reset Parameters :\n",
      "\t\t\n",
      "Unity brain name: BananaBrain\n",
      "        Number of Visual Observations (per agent): 0\n",
      "        Vector Observation space type: continuous\n",
      "        Vector Observation space size (per agent): 37\n",
      "        Number of stacked Vector Observation: 1\n",
      "        Vector Action space type: discrete\n",
      "        Vector Action space size (per agent): 4\n",
      "        Vector Action descriptions: , , , \n"
     ]
    }
   ],
   "source": [
    "env = UnityEnvironment(file_name=\"../../../dl/deep-reinforcement-learning/p1_navigation/Banana_Linux/Banana.x86_64\")"
   ]
  },
  {
   "cell_type": "markdown",
   "metadata": {},
   "source": [
    "Environments contain **_brains_** which are responsible for deciding the actions of their associated agents. Here we check for the first brain available, and set it as the default brain we will be controlling from Python."
   ]
  },
  {
   "cell_type": "code",
   "execution_count": 3,
   "metadata": {},
   "outputs": [],
   "source": [
    "# get the default brain\n",
    "brain_name = env.brain_names[0]\n",
    "brain = env.brains[brain_name]"
   ]
  },
  {
   "cell_type": "markdown",
   "metadata": {},
   "source": [
    "### 2. Examine the State and Action Spaces\n",
    "\n",
    "The state space had 37 dimensions and includes the velocity of the agent, as well as ray-based perception of objects in the forward path of the agent. Given this knowledge, the agent should have learned how best to pick actions.\n",
    "\n",
    "The simulation contains a single agent that navigates a large environment.  At each time step, it has four actions at its disposal:\n",
    "- `0` - walk forward \n",
    "- `1` - walk backward\n",
    "- `2` - turn left\n",
    "- `3` - turn right\n",
    "\n",
    "As mentioned earlier, a reward of `+1` is provided for collecting a yellow banana, and a reward of `-1` is provided for collecting a blue banana. \n",
    "\n",
    "Run the code cell below to print some information about the environment."
   ]
  },
  {
   "cell_type": "code",
   "execution_count": 4,
   "metadata": {},
   "outputs": [
    {
     "name": "stdout",
     "output_type": "stream",
     "text": [
      "Number of agents: 1\n",
      "Number of actions: 4\n",
      "States look like: [1.         0.         0.         0.         0.84408134 0.\n",
      " 0.         1.         0.         0.0748472  0.         1.\n",
      " 0.         0.         0.25755    1.         0.         0.\n",
      " 0.         0.74177343 0.         1.         0.         0.\n",
      " 0.25854847 0.         0.         1.         0.         0.09355672\n",
      " 0.         1.         0.         0.         0.31969345 0.\n",
      " 0.        ]\n",
      "States have length: 37\n"
     ]
    }
   ],
   "source": [
    "# reset the environment\n",
    "env_info = env.reset(train_mode=True)[brain_name]\n",
    "\n",
    "# number of agents in the environment\n",
    "print('Number of agents:', len(env_info.agents))\n",
    "\n",
    "# number of actions\n",
    "action_size = brain.vector_action_space_size\n",
    "print('Number of actions:', action_size)\n",
    "\n",
    "# examine the state space \n",
    "state = env_info.vector_observations[0]\n",
    "print('States look like:', state)\n",
    "state_size = len(state)\n",
    "print('States have length:', state_size)"
   ]
  },
  {
   "cell_type": "markdown",
   "metadata": {},
   "source": [
    "### 3. Take Random Actions in the Environment\n",
    "\n",
    "In the next code cell, you will learn how to use the Python API to control the agent and receive feedback from the environment.\n",
    "\n",
    "Once this cell is executed, you will watch the agent's performance, if it selects an action (uniformly) at random with each time step.  A window should pop up that allows you to observe the agent, as it moves through the environment.  \n",
    "\n",
    "Of course, as part of the project, you'll have to change the code so that the agent is able to use its experience to gradually choose better actions when interacting with the environment!"
   ]
  },
  {
   "cell_type": "code",
   "execution_count": 5,
   "metadata": {},
   "outputs": [
    {
     "name": "stdout",
     "output_type": "stream",
     "text": [
      "Score: 0.0\n"
     ]
    }
   ],
   "source": [
    "#env_info = env.reset(train_mode=True)[brain_name] # reset the environment\n",
    "#state = env_info.vector_observations[0]            # get the current state\n",
    "#score = 0                                          # initialize the score\n",
    "#while True:\n",
    "#    action = np.random.randint(action_size)        # select an action\n",
    "#    env_info = env.step(action)[brain_name]        # send the action to the environment\n",
    "#    next_state = env_info.vector_observations[0]   # get the next state\n",
    "#    reward = env_info.rewards[0]                   # get the reward\n",
    "#    done = env_info.local_done[0]                  # see if episode has finished\n",
    "#    score += reward                                # update the score\n",
    "#    state = next_state                             # roll over the state to next time step\n",
    "#    if done:                                       # exit loop if episode finished\n",
    "#        break\n",
    "    \n",
    "#print(\"Score: {}\".format(score))"
   ]
  },
  {
   "cell_type": "markdown",
   "metadata": {},
   "source": [
    "When finished, you can close the environment."
   ]
  },
  {
   "cell_type": "code",
   "execution_count": null,
   "metadata": {},
   "outputs": [],
   "source": [
    "#env.close()"
   ]
  },
  {
   "cell_type": "markdown",
   "metadata": {},
   "source": [
    "### 4. Training the agent!\n",
    "\n",
    "We train our own agent to solve the environment!  When training the environment, set `train_mode=True`, so that the line for resetting the environment looks like the following:\n",
    "```python\n",
    "env_info = env.reset(train_mode=True)[brain_name]\n",
    "```"
   ]
  },
  {
   "cell_type": "markdown",
   "metadata": {},
   "source": [
    "#### 4.1 Learning Algorithm - DQN\n",
    "\n",
    "Deep Q-Networks(DQN) was proposed by Mnih et al. (2015). It takes agent's state as input and outputs Q action values. It uses experience replay and target network to stabilize the model training."
   ]
  },
  {
   "cell_type": "markdown",
   "metadata": {},
   "source": [
    "#### 4.2 Model Architecture\n",
    "\n",
    "The model is made of three fully connected layers. The number of neurons in first two layers is 64 and in the last layer it's equal to action size. Each layer's output except the last layer is transformed using the RelU activation function."
   ]
  },
  {
   "cell_type": "markdown",
   "metadata": {},
   "source": [
    "#### 4.3 Hyperparameters\n",
    "\n",
    "* BUFFER_SIZE = int(1e5) # replay buffer size\n",
    "* BATCH_SIZE = 64 # minibatch size\n",
    "* GAMMA = 0.99 # discount factor\n",
    "* TAU = 1e-3 # for soft update of target parameters\n",
    "* LR = 5e-4 # learning rate\n",
    "* n_episodes = 2000 # maximum number of training episodes\n",
    "* max_t = 1000 # maximum number of time steps per episode\n",
    "* eps_start = 1.0 # starting value of epsilon, for epsilon-greedy action selection\n",
    "* eps_end = 0.025 # minimum value of epsilon\n",
    "* eps_decay = 0.85 # multiplicative factor (per episode) for decreasing epsilon"
   ]
  },
  {
   "cell_type": "markdown",
   "metadata": {},
   "source": [
    "#### 4.4 Training the model\n",
    "\n"
   ]
  },
  {
   "cell_type": "code",
   "execution_count": 6,
   "metadata": {},
   "outputs": [
    {
     "name": "stdout",
     "output_type": "stream",
     "text": [
      "Episode 100\tAverage Score: 2.79\n",
      "Episode 200\tAverage Score: 9.25\n",
      "Episode 300\tAverage Score: 11.74\n",
      "Episode 359\tAverage Score: 13.02\n",
      "Environment solved in 259 episodes!\tAverage Score: 13.02\n"
     ]
    }
   ],
   "source": [
    "#Training the model\n",
    "agent = Agent(state_size=37, action_size=4, seed=0)\n",
    "\n",
    "def dqn(n_episodes=2000, max_t=1000, eps_start=1.0, eps_end=0.025, eps_decay=0.85):\n",
    "    \"\"\"Deep Q-Learning.\n",
    "    \n",
    "    Params\n",
    "    ======\n",
    "        n_episodes (int): maximum number of training episodes\n",
    "        max_t (int): maximum number of timesteps per episode\n",
    "        eps_start (float): starting value of epsilon, for epsilon-greedy action selection\n",
    "        eps_end (float): minimum value of epsilon\n",
    "        eps_decay (float): multiplicative factor (per episode) for decreasing epsilon\n",
    "    \"\"\"\n",
    "    scores = []                        # list containing scores from each episode\n",
    "    scores_window = deque(maxlen=100)  # last 100 scores\n",
    "    eps = eps_start                    # initialize epsilon\n",
    "    for i_episode in range(1, n_episodes+1):\n",
    "        env_info = env.reset(train_mode=True)[brain_name]\n",
    "        state = env_info.vector_observations[0]\n",
    "        score = 0\n",
    "        for t in range(max_t):\n",
    "            action = agent.act(state, eps)\n",
    "            env_info = env.step(action)[brain_name]        # send the action to the environment\n",
    "            next_state = env_info.vector_observations[0]   # get the next state\n",
    "            reward = env_info.rewards[0]                   # get the reward\n",
    "            done = env_info.local_done[0]                  # see if episode has finished\n",
    "            agent.step(state, action, reward, next_state, done) \n",
    "            state = next_state \n",
    "            score += reward                           # update the score\n",
    "            if done:\n",
    "                break \n",
    "            \n",
    "        scores_window.append(score)       # save most recent score\n",
    "        scores.append(score)              # save most recent score\n",
    "        eps = max(eps_end, eps_decay*eps) # decrease epsilon\n",
    "        print('\\rEpisode {}\\tAverage Score: {:.2f}'.format(i_episode, np.mean(scores_window)), end=\"\")\n",
    "        if i_episode % 100 == 0:\n",
    "            print('\\rEpisode {}\\tAverage Score: {:.2f}'.format(i_episode, np.mean(scores_window)))\n",
    "        if np.mean(scores_window)>=13.0:\n",
    "            print('\\nEnvironment solved in {:d} episodes!\\tAverage Score: {:.2f}'.format(i_episode-100, np.mean(scores_window)))\n",
    "            torch.save(agent.qnetwork_local.state_dict(), 'checkpoint.pth')\n",
    "            break\n",
    "    return scores\n",
    "\n",
    "scores = dqn()"
   ]
  },
  {
   "cell_type": "markdown",
   "metadata": {},
   "source": [
    "#### 4.5 Plotting the scores\n",
    "\n",
    "Environment solved in 259 episodes! Average Score: 13.02"
   ]
  },
  {
   "cell_type": "code",
   "execution_count": 7,
   "metadata": {},
   "outputs": [
    {
     "data": {
      "image/png": "[encoded data removed]",
      "text/plain": [
       "<Figure size 432x288 with 1 Axes>"
      ]
     },
     "metadata": {
      "needs_background": "light"
     },
     "output_type": "display_data"
    }
   ],
   "source": [
    "# plot the scores\n",
    "fig = plt.figure()\n",
    "ax = fig.add_subplot(111)\n",
    "plt.plot(np.arange(len(scores)), scores)\n",
    "plt.ylabel('Score')\n",
    "plt.xlabel('Episode #')\n",
    "plt.show()"
   ]
  },
  {
   "cell_type": "markdown",
   "metadata": {},
   "source": [
    "#### 4.6 Testing the model"
   ]
  },
  {
   "cell_type": "code",
   "execution_count": 8,
   "metadata": {},
   "outputs": [
    {
     "name": "stdout",
     "output_type": "stream",
     "text": [
      "Episode 1: 4.0\n",
      "Episode 2: 20.0\n",
      "Episode 3: 21.0\n",
      "Episode 4: 12.0\n",
      "Episode 5: 16.0\n",
      "Episode 6: 17.0\n",
      "Episode 7: 16.0\n",
      "Episode 8: 13.0\n",
      "Episode 9: 12.0\n",
      "Episode 10: 19.0\n",
      "Episode 11: 14.0\n",
      "Episode 12: 11.0\n",
      "Episode 13: 14.0\n",
      "Episode 14: 21.0\n",
      "Episode 15: 15.0\n",
      "Episode 16: 19.0\n",
      "Episode 17: 15.0\n",
      "Episode 18: 7.0\n",
      "Episode 19: 11.0\n",
      "Episode 20: 16.0\n",
      "Episode 21: 13.0\n",
      "Episode 22: 13.0\n",
      "Episode 23: 24.0\n",
      "Episode 24: 14.0\n",
      "Episode 25: 7.0\n",
      "Episode 26: 5.0\n",
      "Episode 27: 8.0\n",
      "Episode 28: 21.0\n",
      "Episode 29: 22.0\n",
      "Episode 30: 13.0\n",
      "Episode 31: 14.0\n",
      "Episode 32: 19.0\n",
      "Episode 33: 17.0\n",
      "Episode 34: 19.0\n",
      "Episode 35: 6.0\n",
      "Episode 36: 18.0\n",
      "Episode 37: 16.0\n",
      "Episode 38: 18.0\n",
      "Episode 39: 21.0\n",
      "Episode 40: 18.0\n",
      "Episode 41: 21.0\n",
      "Episode 42: 16.0\n",
      "Episode 43: 11.0\n",
      "Episode 44: 17.0\n",
      "Episode 45: 5.0\n",
      "Episode 46: 16.0\n",
      "Episode 47: 12.0\n",
      "Episode 48: 21.0\n",
      "Episode 49: 9.0\n",
      "Episode 50: 17.0\n",
      "Episode 51: 21.0\n",
      "Episode 52: 17.0\n",
      "Episode 53: 14.0\n",
      "Episode 54: 12.0\n",
      "Episode 55: 17.0\n",
      "Episode 56: 20.0\n",
      "Episode 57: 17.0\n",
      "Episode 58: 13.0\n",
      "Episode 59: 14.0\n",
      "Episode 60: 22.0\n",
      "Episode 61: 21.0\n",
      "Episode 62: 23.0\n",
      "Episode 63: 2.0\n",
      "Episode 64: 4.0\n",
      "Episode 65: 12.0\n",
      "Episode 66: 21.0\n",
      "Episode 67: 14.0\n",
      "Episode 68: 20.0\n",
      "Episode 69: 11.0\n",
      "Episode 70: 19.0\n",
      "Episode 71: 6.0\n",
      "Episode 72: 20.0\n",
      "Episode 73: 17.0\n",
      "Episode 74: 24.0\n",
      "Episode 75: 15.0\n",
      "Episode 76: 19.0\n",
      "Episode 77: 9.0\n",
      "Episode 78: 17.0\n",
      "Episode 79: 19.0\n",
      "Episode 80: 8.0\n",
      "Episode 81: 21.0\n",
      "Episode 82: 17.0\n",
      "Episode 83: 13.0\n",
      "Episode 84: 15.0\n",
      "Episode 85: 20.0\n",
      "Episode 86: 14.0\n",
      "Episode 87: 18.0\n",
      "Episode 88: 18.0\n",
      "Episode 89: 17.0\n",
      "Episode 90: 16.0\n",
      "Episode 91: 7.0\n",
      "Episode 92: 20.0\n",
      "Episode 93: 15.0\n",
      "Episode 94: 18.0\n",
      "Episode 95: 13.0\n",
      "Episode 96: 18.0\n",
      "Episode 97: 13.0\n",
      "Episode 98: 5.0\n",
      "Episode 99: 19.0\n",
      "Episode 100: 19.0\n",
      "All the scores[4.0, 20.0, 21.0, 12.0, 16.0, 17.0, 16.0, 13.0, 12.0, 19.0, 14.0, 11.0, 14.0, 21.0, 15.0, 19.0, 15.0, 7.0, 11.0, 16.0, 13.0, 13.0, 24.0, 14.0, 7.0, 5.0, 8.0, 21.0, 22.0, 13.0, 14.0, 19.0, 17.0, 19.0, 6.0, 18.0, 16.0, 18.0, 21.0, 18.0, 21.0, 16.0, 11.0, 17.0, 5.0, 16.0, 12.0, 21.0, 9.0, 17.0, 21.0, 17.0, 14.0, 12.0, 17.0, 20.0, 17.0, 13.0, 14.0, 22.0, 21.0, 23.0, 2.0, 4.0, 12.0, 21.0, 14.0, 20.0, 11.0, 19.0, 6.0, 20.0, 17.0, 24.0, 15.0, 19.0, 9.0, 17.0, 19.0, 8.0, 21.0, 17.0, 13.0, 15.0, 20.0, 14.0, 18.0, 18.0, 17.0, 16.0, 7.0, 20.0, 15.0, 18.0, 13.0, 18.0, 13.0, 5.0, 19.0, 19.0]\n",
      "Mean Score: 15.28\n"
     ]
    }
   ],
   "source": [
    "#Testing the model\n",
    "from dqn_agent import Agent\n",
    "filename_to_load = './checkpoint.pth'\n",
    "final_eps = 0.01\n",
    "\n",
    "agent = Agent(state_size=37, action_size=4, seed=0)\n",
    "# load the weights from file\n",
    "\n",
    "\n",
    "#Since the model is trained on gpu, need to load all gpu tensors to cpu:\n",
    "agent.qnetwork_local.load_state_dict(torch.load(filename_to_load, map_location=lambda storage, loc: storage))\n",
    "\n",
    "num_episodes = 100\n",
    "scores = []\n",
    "for i_episode in range(1,num_episodes+1):\n",
    "    env_info = env.reset(train_mode=False)[brain_name] # reset the environment\n",
    "    state = env_info.vector_observations[0]            # get the current state\n",
    "    score = 0                                          # initialize the score\n",
    "    while True:\n",
    "        action = agent.act(state, eps=final_eps)        # select an action\n",
    "        env_info = env.step(action)[brain_name]        # send the action to the environment\n",
    "        next_state = env_info.vector_observations[0]   # get the next state\n",
    "        reward = env_info.rewards[0]                   # get the reward\n",
    "        done = env_info.local_done[0]                  # see if episode has finished\n",
    "        \n",
    "        score += reward                                # update the score\n",
    "        state = next_state                             # roll over the state to next time step\n",
    "        if done:                                       # exit loop if episode finished\n",
    "            print('Episode {}: {}'. format(i_episode, score))\n",
    "            scores.append(score)\n",
    "            break\n",
    "\n",
    "print('All the scores{}'.format(scores))\n",
    "print(\"Mean Score: {}\".format(np.mean(scores)))\n"
   ]
  },
  {
   "cell_type": "code",
   "execution_count": 9,
   "metadata": {},
   "outputs": [],
   "source": [
    "env.close()\n"
   ]
  },
  {
   "cell_type": "markdown",
   "metadata": {},
   "source": [
    "### 5. Future ideas to improve the agent's performance\n",
    "\n",
    "More experiments can be done to increase the performance of agent by applying different extensions of DQN:\n",
    "\n",
    "* Double DQN (DDQN)\n",
    "* Prioritized experience replay\n",
    "* Dueling DQN\n",
    "* A3C\n",
    "* Distributional DQN\n",
    "* Noisy DQN\n"
   ]
  },
  {
   "cell_type": "code",
   "execution_count": null,
   "metadata": {},
   "outputs": [],
   "source": []
  }
 ],
 "metadata": {
  "kernelspec": {
   "display_name": "drlnd",
   "language": "python",
   "name": "drlnd"
  },
  "language_info": {
   "codemirror_mode": {
    "name": "ipython",
    "version": 3
   },
   "file_extension": ".py",
   "mimetype": "text/x-python",
   "name": "python",
   "nbconvert_exporter": "python",
   "pygments_lexer": "ipython3",
   "version": "3.6.10"
  }
 },
 "nbformat": 4,
 "nbformat_minor": 2
}
